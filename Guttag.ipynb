{
 "cells": [
  {
   "cell_type": "code",
   "execution_count": 1,
   "metadata": {},
   "outputs": [
    {
     "name": "stdout",
     "output_type": "stream",
     "text": [
      "3*3 = 9\n"
     ]
    }
   ],
   "source": [
    "#Iteration\n",
    "\n",
    "x = 3\n",
    "ans = 0\n",
    "itersLeft = x\n",
    "while (itersLeft != 0):\n",
    "    ans = ans + x\n",
    "    itersLeft = itersLeft - 1\n",
    "print (str(x) + '*' + str(x) + ' = ' + str(ans))"
   ]
  },
  {
   "cell_type": "code",
   "execution_count": 10,
   "metadata": {},
   "outputs": [
    {
     "name": "stdout",
     "output_type": "stream",
     "text": [
      "Enter an integer: 8\n",
      "Cube root of 8 is 2\n"
     ]
    }
   ],
   "source": [
    "#Find the cube root of a perfect cube\n",
    "x = int(input('Enter an integer: ')) # input\n",
    "ans = 0\n",
    "while ans**3 < abs(x): # x-s ih hurtel nemeel baina\n",
    "    ans = ans + 1\n",
    "if ans**3 != abs(x):\n",
    "    print (x, 'is not a perfect cube')\n",
    "else:\n",
    "    if x < 0:\n",
    "        ans = -ans\n",
    "    print ('Cube root of', x,'is', ans)"
   ]
  },
  {
   "cell_type": "code",
   "execution_count": 12,
   "metadata": {},
   "outputs": [
    {
     "name": "stdout",
     "output_type": "stream",
     "text": [
      "Enter an integer: 8\n",
      "Cube root of 8 is 2\n"
     ]
    }
   ],
   "source": [
    "#Find the cube root of a perfect cube Using for and break statements\n",
    "x = int(input('Enter an integer: '))\n",
    "for ans in range(0, abs(x)+1):\n",
    "    if ans**3 >= abs(x):\n",
    "        break\n",
    "if ans**3 != abs(x):\n",
    "    print (x, 'is not a perfect cube')\n",
    "else:\n",
    "    if x < 0:\n",
    "        ans = -ans\n",
    "    print ('Cube root of', x,'is', ans)"
   ]
  },
  {
   "cell_type": "code",
   "execution_count": 15,
   "metadata": {},
   "outputs": [
    {
     "name": "stdout",
     "output_type": "stream",
     "text": [
      "numGuesses = 49990\n",
      "4.999000000001688 is close to square root of 25\n"
     ]
    }
   ],
   "source": [
    "#Approximate Solutions and Bisection Search\n",
    "#Approximating the square root using exhaustive enumeration\n",
    "\n",
    "#Using bisection search to approximate square root\n",
    "\n",
    "x = 25\n",
    "epsilon = 0.01\n",
    "step = epsilon**2\n",
    "numGuesses = 0\n",
    "ans = 0.0\n",
    "while abs(ans**2 - x) >= epsilon and ans <= x:\n",
    "    ans += step\n",
    "    numGuesses += 1\n",
    "print ('numGuesses =', numGuesses)\n",
    "if abs(ans**2 - x) >= epsilon:\n",
    "    print ('Failed on square root of', x)\n",
    "else:\n",
    "    print (ans, 'is close to square root of', x)"
   ]
  },
  {
   "cell_type": "code",
   "execution_count": 17,
   "metadata": {},
   "outputs": [
    {
     "name": "stdout",
     "output_type": "stream",
     "text": [
      "low = 0.0 high = 25 ans = 12.5\n",
      "low = 0.0 high = 12.5 ans = 6.25\n",
      "low = 0.0 high = 6.25 ans = 3.125\n",
      "low = 3.125 high = 6.25 ans = 4.6875\n",
      "low = 4.6875 high = 6.25 ans = 5.46875\n",
      "low = 4.6875 high = 5.46875 ans = 5.078125\n",
      "low = 4.6875 high = 5.078125 ans = 4.8828125\n",
      "low = 4.8828125 high = 5.078125 ans = 4.98046875\n",
      "low = 4.98046875 high = 5.078125 ans = 5.029296875\n",
      "low = 4.98046875 high = 5.029296875 ans = 5.0048828125\n",
      "low = 4.98046875 high = 5.0048828125 ans = 4.99267578125\n",
      "low = 4.99267578125 high = 5.0048828125 ans = 4.998779296875\n",
      "low = 4.998779296875 high = 5.0048828125 ans = 5.0018310546875\n",
      "numGuesses = 13\n",
      "5.00030517578125 is close to square root of 25\n"
     ]
    }
   ],
   "source": [
    "#Using bisection search to approximate square root\n",
    "\n",
    "x = 25\n",
    "epsilon = 0.01\n",
    "numGuesses = 0\n",
    "low = 0.0\n",
    "high = max(1.0, x)\n",
    "ans = (high + low)/2.0\n",
    "while abs(ans**2 - x) >= epsilon:\n",
    "    print ('low =', low, 'high =', high, 'ans =', ans)\n",
    "    numGuesses += 1\n",
    "    if ans**2 < x:\n",
    "        low = ans\n",
    "    else:\n",
    "        high = ans\n",
    "    ans = (high + low)/2.0\n",
    "print ('numGuesses =', numGuesses)\n",
    "print (ans, 'is close to square root of', x)"
   ]
  },
  {
   "cell_type": "code",
   "execution_count": 16,
   "metadata": {},
   "outputs": [
    {
     "name": "stdout",
     "output_type": "stream",
     "text": [
      "Square root of 24.0 is about 4.8989887432139305\n"
     ]
    }
   ],
   "source": [
    "#Newton-Raphson for square root\n",
    "#Find x such that x**2 - 24 is within epsilon of 0\n",
    "epsilon = 0.01\n",
    "k = 24.0\n",
    "guess = k/2.0\n",
    "while abs(guess*guess - k) >= epsilon:\n",
    "    guess = guess - (((guess**2) - k)/(2*guess))\n",
    "print ('Square root of', k, 'is about', guess)"
   ]
  },
  {
   "cell_type": "markdown",
   "metadata": {},
   "source": [
    "Finger exercise: Add some code to the implementation of Newton-Raphson that\n",
    "keeps track of the number of iterations used to find the root. Use that code as\n",
    "part of a program that compares the efficiency of Newton-Raphson and bisection\n",
    "search. (You should discover that Newton-Raphson is more efficient.)"
   ]
  },
  {
   "cell_type": "code",
   "execution_count": 18,
   "metadata": {},
   "outputs": [
    {
     "name": "stdout",
     "output_type": "stream",
     "text": [
      "Olga Puchmajerova\n"
     ]
    }
   ],
   "source": [
    "#Function that prints a name\n",
    "\n",
    "def printName(firstName, lastName, reverse):\n",
    "    if reverse:\n",
    "        print (lastName + ', ' + firstName)\n",
    "    else:\n",
    "        print (firstName, lastName)\n",
    "        \n",
    "printName('Olga', 'Puchmajerova', False)"
   ]
  },
  {
   "cell_type": "code",
   "execution_count": 20,
   "metadata": {},
   "outputs": [
    {
     "name": "stdout",
     "output_type": "stream",
     "text": [
      "x = 4\n",
      "z = 4\n",
      "x = abc\n",
      "x = 4\n",
      "x = 3\n",
      "z = <function f.<locals>.g at 0x000000000833C168>\n",
      "x = abc\n"
     ]
    }
   ],
   "source": [
    "#Nested scopes\n",
    "\n",
    "def f(x):\n",
    "    def g():\n",
    "        x = 'abc'\n",
    "        print ('x =', x)\n",
    "    def h():\n",
    "        z = x\n",
    "        print ('z =', z)\n",
    "    x = x + 1\n",
    "    print ('x =', x)\n",
    "    h()\n",
    "    g()\n",
    "    print ('x =', x)\n",
    "    return g\n",
    "\n",
    "x = 3\n",
    "z = f(x)\n",
    "print ('x =', x)\n",
    "print ('z =', z)\n",
    "z()"
   ]
  },
  {
   "cell_type": "code",
   "execution_count": null,
   "metadata": {},
   "outputs": [],
   "source": [
    "#Iterative and recursive implementations of factorial\n",
    "\n",
    "def factI(n):\n",
    "    \"\"\"Assumes that n is an int > 0\n",
    "        Returns n!\"\"\"\n",
    "    result = 1\n",
    "    while n > 1:\n",
    "        result = result * n\n",
    "        n -= 1\n",
    "    return result\n",
    "\n",
    "def factR(n):\n",
    "    \"\"\"Assumes that n is an int > 0\n",
    "        Returns n!\"\"\"\n",
    "    if n == 1:\n",
    "        return n\n",
    "    else:\n",
    "        return n*factR(n - 1)"
   ]
  },
  {
   "cell_type": "code",
   "execution_count": null,
   "metadata": {},
   "outputs": [],
   "source": [
    "#Recursive implementation of Fibonacci sequence\n",
    "\n",
    "def fib(n):\n",
    "    \"\"\"Assumes n an int >= 0\n",
    "        Returns Fibonacci of n\"\"\"\n",
    "    if n == 0 or n == 1:\n",
    "        return 1\n",
    "    else:\n",
    "        return fib(n-1) + fib(n-2)\n",
    "    \n",
    "def testFib(n):\n",
    "    for i in range(n+1):\n",
    "        print 'fib of', i, '=', fib(i)"
   ]
  },
  {
   "cell_type": "code",
   "execution_count": 25,
   "metadata": {},
   "outputs": [],
   "source": [
    "#Palindrome testing\n",
    "\n",
    "def isPalindrome(s):\n",
    "    \"\"\"Assumes s is a str\n",
    "    Returns True if the letters in s form a palindrome;\n",
    "    False otherwise. Non-letters and capitalization are ignored.\"\"\"\n",
    "\n",
    "    def toChars(s):\n",
    "        s = s.lower()\n",
    "        letters = ''\n",
    "        for c in s:\n",
    "            if c in 'abcdefghijklmnopqrstuvwxyz':\n",
    "                letters = letters + c\n",
    "        return letters\n",
    "\n",
    "    def isPal(s):\n",
    "        if len(s) <= 1:\n",
    "            return True\n",
    "        else:\n",
    "            return s[0] == s[-1] and isPal(s[1:-1]) \n",
    "\n",
    "    return isPal(toChars(s))\n",
    "\n",
    "def testIsPalindrome():\n",
    "    print ('Try dogGod')\n",
    "    print (isPalindrome('dogGod'))\n",
    "    print ('Try doGood')\n",
    "    print (isPalindrome('doGood'))"
   ]
  },
  {
   "cell_type": "code",
   "execution_count": null,
   "metadata": {},
   "outputs": [],
   "source": [
    "# Using exceptions for control flow\n",
    "\n",
    "def getRatios(vect1, vect2):\n",
    "    ratios = []\n",
    "    for index in range(len(vect1)):\n",
    "        try:\n",
    "            ratios.append(vect1[index]/float(vect2[index]))\n",
    "        except ZeroDivisionError:\n",
    "            ratios.append(float('nan')) #nan = Not a Number\n",
    "        except:\n",
    "            raise ValueError('getRatios called with bad arguments')\n",
    "    return ratios"
   ]
  },
  {
   "cell_type": "code",
   "execution_count": 6,
   "metadata": {},
   "outputs": [
    {
     "name": "stdout",
     "output_type": "stream",
     "text": [
      "Fixed, 7.000000000000001%\n",
      " Total payments = $479017\n",
      "Fixed, 5.0%,3.25 points\n",
      " Total payments = $393011\n",
      "4.5% for 48 months, then 9.5%\n",
      " Total payments = $551444\n"
     ]
    }
   ],
   "source": [
    "def findPayment(loan, r, m):\n",
    "    return loan*((r*(1+r)**m)/((1+r)**m - 1))\n",
    "\n",
    "class Mortgage(object):\n",
    "    def __init__(self, loan, annRate, months):\n",
    "        self.loan = loan\n",
    "        self.rate = annRate/12.0\n",
    "        self.months = months\n",
    "        self.paid = [0.0]\n",
    "        self.owed = [loan]\n",
    "        self.payment = findPayment(loan, self.rate, months)\n",
    "        self.legend = None \n",
    "\n",
    "    def makePayment(self):\n",
    "        self.paid.append(self.payment)\n",
    "        reduction = self.payment - self.owed[-1]*self.rate\n",
    "        self.owed.append(self.owed[-1] - reduction)\n",
    "\n",
    "    def getTotalPaid(self):\n",
    "        return sum(self.paid)\n",
    "\n",
    "    def __str__(self):\n",
    "        return self.legend\n",
    "    \n",
    "class Fixed(Mortgage):\n",
    "    def __init__(self, loan, r, months):\n",
    "        Mortgage.__init__(self, loan, r, months)\n",
    "        self.legend = 'Fixed, ' + str(r*100) + '%'\n",
    "        \n",
    "class FixedWithPts(Mortgage):\n",
    "    def __init__(self, loan, r, months, pts):\n",
    "        Mortgage.__init__(self, loan, r, months)\n",
    "        self.pts = pts\n",
    "        self.paid = [loan*(pts/100.0)]\n",
    "        self.legend = 'Fixed, ' + str(r*100) + '%,'+ str(pts) + ' points'\n",
    "        \n",
    "class TwoRate(Mortgage):\n",
    "    def __init__(self, loan, r, months, teaserRate, teaserMonths):\n",
    "        Mortgage.__init__(self, loan, teaserRate, months)\n",
    "        self.teaserMonths = teaserMonths\n",
    "        self.teaserRate = teaserRate\n",
    "        self.nextRate = r/12.0\n",
    "        self.legend = str(teaserRate*100) + '% for ' + str(self.teaserMonths) + ' months, then ' + str(r*100) + '%'\n",
    "        \n",
    "    def makePayment(self):\n",
    "        if len(self.paid) == self.teaserMonths + 1:\n",
    "            self.rate = self.nextRate\n",
    "            self.payment = findPayment(self.owed[-1], self.rate,self.months - self.teaserMonths)\n",
    "        Mortgage.makePayment(self)\n",
    "        \n",
    "def compareMortgages(amt, years, fixedRate, pts, ptsRate, varRate1, varRate2, varMonths):\n",
    "    totMonths = years*12\n",
    "    fixed1 = Fixed(amt, fixedRate, totMonths)\n",
    "    fixed2 = FixedWithPts(amt, ptsRate, totMonths, pts)\n",
    "    twoRate = TwoRate(amt, varRate2, totMonths, varRate1, varMonths)\n",
    "    morts = [fixed1, fixed2, twoRate]\n",
    "    for m in range(totMonths):\n",
    "        for mort in morts:\n",
    "            mort.makePayment()\n",
    "    for m in morts:\n",
    "        print (m)\n",
    "        print (' Total payments = $' + str(int(m.getTotalPaid())))\n",
    "        \n",
    "compareMortgages(amt=200000, years=30, fixedRate=0.07,pts = 3.25, ptsRate=0.05, varRate1=0.045, varRate2=0.095, varMonths=48)"
   ]
  },
  {
   "cell_type": "code",
   "execution_count": null,
   "metadata": {},
   "outputs": [],
   "source": [
    "123456"
   ]
  }
 ],
 "metadata": {
  "kernelspec": {
   "display_name": "Python 3",
   "language": "python",
   "name": "python3"
  },
  "language_info": {
   "codemirror_mode": {
    "name": "ipython",
    "version": 3
   },
   "file_extension": ".py",
   "mimetype": "text/x-python",
   "name": "python",
   "nbconvert_exporter": "python",
   "pygments_lexer": "ipython3",
   "version": "3.7.4"
  }
 },
 "nbformat": 4,
 "nbformat_minor": 2
}
